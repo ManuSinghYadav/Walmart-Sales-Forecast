{
  "nbformat": 4,
  "nbformat_minor": 0,
  "metadata": {
    "colab": {
      "provenance": [],
      "authorship_tag": "ABX9TyMYw14uLg+6smpnFGshXLai",
      "include_colab_link": true
    },
    "kernelspec": {
      "name": "python3",
      "display_name": "Python 3"
    },
    "language_info": {
      "name": "python"
    }
  },
  "cells": [
    {
      "cell_type": "markdown",
      "metadata": {
        "id": "view-in-github",
        "colab_type": "text"
      },
      "source": [
        "<a href=\"https://colab.research.google.com/github/ManuSinghYadav/Walmart-Sales-Forecast/blob/main/Walmart_Sales_Forecast.ipynb\" target=\"_parent\"><img src=\"https://colab.research.google.com/assets/colab-badge.svg\" alt=\"Open In Colab\"/></a>"
      ]
    },
    {
      "cell_type": "code",
      "source": [
        "import pandas as pd"
      ],
      "metadata": {
        "id": "YLBt2F6axzKD"
      },
      "execution_count": 69,
      "outputs": []
    },
    {
      "cell_type": "code",
      "source": [
        "features = pd.read_csv('/content/Walmart-Sales-Forecast/features.csv')\n",
        "stores = pd.read_csv('/content/Walmart-Sales-Forecast/stores.csv')\n",
        "test = pd.read_csv('/content/Walmart-Sales-Forecast/test.csv')\n",
        "train = pd.read_csv('/content/Walmart-Sales-Forecast/train.csv')"
      ],
      "metadata": {
        "colab": {
          "base_uri": "https://localhost:8080/"
        },
        "id": "ICzkcrdJx2nL",
        "outputId": "e56cf963-5132-40eb-eab1-cd7bd5cb1b64"
      },
      "execution_count": 73,
      "outputs": [
        {
          "output_type": "stream",
          "name": "stderr",
          "text": [
            "<ipython-input-73-ad108aaf380d>:4: DtypeWarning: Columns (4) have mixed types. Specify dtype option on import or set low_memory=False.\n",
            "  train = pd.read_csv('/content/Walmart-Sales-Forecast/train.csv')\n"
          ]
        }
      ]
    }
  ]
}